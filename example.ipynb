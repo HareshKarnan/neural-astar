{
 "cells": [
  {
   "cell_type": "markdown",
   "id": "5c38c3d8-b2af-41fd-ba2b-8d482b540535",
   "metadata": {},
   "source": [
    "### (Optional) Install Neural A* on Colab\n",
    "\n",
    "We highly recommend the use of GPUs for faster training/planning."
   ]
  },
  {
   "cell_type": "code",
   "execution_count": null,
   "id": "48af7a83-b074-47f1-a1de-cb4da97f6f1d",
   "metadata": {},
   "outputs": [],
   "source": [
    "!git clone https://github.com/omron-sinicx/neural-astar"
   ]
  },
  {
   "cell_type": "code",
   "execution_count": null,
   "id": "7c736d92-e32a-4db6-84ca-7489745d3bf1",
   "metadata": {},
   "outputs": [],
   "source": [
    "%cd neural-astar\n",
    "!pip install ."
   ]
  },
  {
   "cell_type": "markdown",
   "id": "31c233be-e0b7-481f-aec1-6dedbfcbd411",
   "metadata": {},
   "source": [
    "## Run Neural A*"
   ]
  },
  {
   "cell_type": "code",
   "execution_count": 5,
   "id": "911b7680-5ae9-4607-9757-939d006369ed",
   "metadata": {},
   "outputs": [],
   "source": [
    "import matplotlib.pyplot as plt\n",
    "import torch\n",
    "from tqdm import tqdm\n",
    "\n",
    "from neural_astar.planner import NeuralAstar, VanillaAstar\n",
    "from neural_astar.utils.data import create_dataloader\n",
    "from neural_astar.utils.training import set_global_seeds, calc_metrics_from_multiple_results, visualize_results\n",
    "\n",
    "device = \"cuda\" if torch.cuda.is_available() else \"cpu\""
   ]
  },
  {
   "cell_type": "code",
   "execution_count": 6,
   "id": "0c659be5-9df2-4de3-948e-8e948eb9faf4",
   "metadata": {},
   "outputs": [],
   "source": [
    "neural_astar = NeuralAstar(encoder_arch='CNN').to(device)\n",
    "neural_astar.load_state_dict(torch.load(\"data/cnn_mazes.pt\", map_location=torch.device(device)))\n",
    "\n",
    "vanilla_astar = VanillaAstar().to(device)"
   ]
  },
  {
   "cell_type": "code",
   "execution_count": 7,
   "id": "bc7a6a19-8e4a-44d5-9a6c-73c5586f5fe6",
   "metadata": {},
   "outputs": [
    {
     "name": "stdout",
     "output_type": "stream",
     "text": [
      "Number of Test Samples: 100\n",
      "\tSize: 32x32\n"
     ]
    },
    {
     "name": "stderr",
     "output_type": "stream",
     "text": [
      "  0%|          | 0/5 [00:00<?, ?it/s]/u/pstone/agents6/haresh/Projects/miniconda3/lib/python3.8/site-packages/torch/functional.py:445: UserWarning: torch.meshgrid: in an upcoming release, it will be required to pass the indexing argument. (Triggered internally at  /opt/conda/conda-bld/pytorch_1639180588308/work/aten/src/ATen/native/TensorShape.cpp:2157.)\n",
      "  return _VF.meshgrid(tensors, **kwargs)  # type: ignore[attr-defined]\n",
      "100%|██████████| 5/5 [01:05<00:00, 13.20s/it]\n"
     ]
    },
    {
     "data": {
      "text/plain": [
       "optimality: 0.782, efficiency: 0.431, h_mean: 0.501"
      ]
     },
     "execution_count": 7,
     "metadata": {},
     "output_type": "execute_result"
    }
   ],
   "source": [
    "# average performances over 5 starts\n",
    "\n",
    "set_global_seeds(1234)\n",
    "dataloader = create_dataloader(\"data/mazes_032_moore_c8.npz\", \"test\", 100, shuffle=False, num_starts=5)\n",
    "va_outputs_list, na_outputs_list = [], []\n",
    "with torch.no_grad():\n",
    "    for map_designs, start_maps, goal_maps, opt_trajs in dataloader:\n",
    "        for i in tqdm(range(start_maps.shape[1])):\n",
    "            vanilla_astar.eval()\n",
    "            va_outputs_list.append(vanilla_astar(map_designs.to(device), start_maps[:, i:i+1].to(device), goal_maps.to(device)))\n",
    "            neural_astar.eval()\n",
    "            na_outputs_list.append(neural_astar(map_designs.to(device), start_maps[:, i:i+1].to(device), goal_maps.to(device)))\n",
    "            \n",
    "calc_metrics_from_multiple_results(na_outputs_list, va_outputs_list)"
   ]
  },
  {
   "cell_type": "code",
   "execution_count": 8,
   "id": "aa16df10-ef5a-4e67-a515-abe125fe5901",
   "metadata": {},
   "outputs": [
    {
     "name": "stdout",
     "output_type": "stream",
     "text": [
      "Number of Test Samples: 100\n",
      "\tSize: 32x32\n"
     ]
    },
    {
     "data": {
      "text/plain": [
       "(-0.5, 171.5, 35.5, -0.5)"
      ]
     },
     "execution_count": 8,
     "metadata": {},
     "output_type": "execute_result"
    },
    {
     "data": {
      "image/png": "[encoded data removed]",
      "text/plain": [
       "<Figure size 1200x400 with 2 Axes>"
      ]
     },
     "metadata": {},
     "output_type": "display_data"
    }
   ],
   "source": [
    "# Visualization\n",
    "\n",
    "dataloader = create_dataloader(\"data/mazes_032_moore_c8.npz\", \"test\", 5, shuffle=False, num_starts=1)\n",
    "map_designs, start_maps, goal_maps, opt_trajs = next(iter(dataloader))\n",
    "na_outputs = neural_astar(map_designs.to(device), start_maps.to(device), goal_maps.to(device))\n",
    "va_outputs = vanilla_astar(map_designs.to(device), start_maps.to(device), goal_maps.to(device))\n",
    "\n",
    "plt.figure(figsize=[12, 4])\n",
    "plt.subplot(2, 1, 1)\n",
    "plt.imshow(visualize_results(map_designs, va_outputs))\n",
    "plt.title(\"Vanilla A*\")\n",
    "plt.axis(\"off\")\n",
    "plt.subplot(2, 1, 2)\n",
    "plt.imshow(visualize_results(map_designs, na_outputs))\n",
    "plt.title(\"Neural A*\")\n",
    "plt.axis(\"off\")\n"
   ]
  },
  {
   "cell_type": "code",
   "execution_count": 11,
   "id": "f5edad4e-55c5-4f24-8f15-57c7b6408221",
   "metadata": {},
   "outputs": [
    {
     "name": "stdout",
     "output_type": "stream",
     "text": [
      "MoviePy - Building file neural_astar.gif with imageio.\n"
     ]
    },
    {
     "name": "stderr",
     "output_type": "stream",
     "text": [
      "                                                   \r"
     ]
    },
    {
     "name": "stdout",
     "output_type": "stream",
     "text": [
      "MoviePy - Building file astar.gif with imageio.\n"
     ]
    },
    {
     "name": "stderr",
     "output_type": "stream",
     "text": [
      "                                                               \r"
     ]
    }
   ],
   "source": [
    "# Create gif animation\n",
    "\n",
    "import moviepy.editor as mpy\n",
    "from PIL import Image\n",
    "\n",
    "instance_id = 1\n",
    "\n",
    "na_outputs = neural_astar(map_designs[instance_id:instance_id + 1].to(device), \n",
    "                          start_maps[instance_id:instance_id + 1].to(device), \n",
    "                          goal_maps[instance_id:instance_id + 1].to(device), store_intermediate_results=True)\n",
    "frames = [visualize_results(map_designs[instance_id:instance_id + 1], intermediate_results, scale=4) for intermediate_results in na_outputs.intermediate_results]\n",
    "clip = mpy.ImageSequenceClip(frames + [frames[-1]] * 15, fps=30)\n",
    "clip.write_gif(\"neural_astar.gif\")\n",
    "\n",
    "\n",
    "va_outputs = vanilla_astar(map_designs[instance_id:instance_id + 1].to(device), \n",
    "                          start_maps[instance_id:instance_id + 1].to(device), \n",
    "                          goal_maps[instance_id:instance_id + 1].to(device), store_intermediate_results=True)\n",
    "frames = [visualize_results(map_designs[instance_id:instance_id + 1], intermediate_results, scale=4) for intermediate_results in va_outputs.intermediate_results]\n",
    "clip = mpy.ImageSequenceClip(frames + [frames[-1]] * 15, fps=30)\n",
    "clip.write_gif(\"astar.gif\")"
   ]
  },
  {
   "cell_type": "markdown",
   "id": "53cbe319-c31d-41b3-ab76-fcf56a64a257",
   "metadata": {},
   "source": [
    "## Train Neural A*"
   ]
  },
  {
   "cell_type": "code",
   "execution_count": 12,
   "id": "e8a393ae-cdee-46b6-b8d6-81024351e728",
   "metadata": {},
   "outputs": [
    {
     "name": "stdout",
     "output_type": "stream",
     "text": [
      "Number of Train Samples: 800\n",
      "\tSize: 32x32\n",
      "Number of Validation Samples: 100\n",
      "\tSize: 32x32\n",
      "Number of Test Samples: 100\n",
      "\tSize: 32x32\n",
      "training:   0%|                       | 0/8 [00:00<?, ?it/s]/u/pstone/agents6/haresh/Projects/miniconda3/lib/python3.8/site-packages/torch/functional.py:445: UserWarning: torch.meshgrid: in an upcoming release, it will be required to pass the indexing argument. (Triggered internally at  /opt/conda/conda-bld/pytorch_1639180588308/work/aten/src/ATen/native/TensorShape.cpp:2157.)\n",
      "  return _VF.meshgrid(tensors, **kwargs)  # type: ignore[attr-defined]\n",
      "training: 100%|███████████████| 8/8 [00:26<00:00,  3.31s/it]\n",
      "validation: 100%|█████████████| 1/1 [00:06<00:00,  6.15s/it]\n",
      "[epoch:000] train_loss:7.94e-02, val_loss:9.70e-02,  optimality: 0.520, efficiency: 0.346, h_mean: 0.415\n",
      "best score updated: -1.000 -> 0.415\n",
      "training: 100%|███████████████| 8/8 [00:21<00:00,  2.73s/it]\n",
      "validation: 100%|█████████████| 1/1 [00:05<00:00,  5.14s/it]\n",
      "[epoch:001] train_loss:7.22e-02, val_loss:8.94e-02,  optimality: 0.560, efficiency: 0.389, h_mean: 0.459\n",
      "best score updated: 0.415 -> 0.459\n",
      "training: 100%|███████████████| 8/8 [00:23<00:00,  2.88s/it]\n",
      "validation: 100%|█████████████| 1/1 [00:07<00:00,  7.34s/it]\n",
      "[epoch:002] train_loss:7.18e-02, val_loss:8.69e-02,  optimality: 0.640, efficiency: 0.397, h_mean: 0.490\n",
      "best score updated: 0.459 -> 0.490\n",
      "training: 100%|███████████████| 8/8 [00:24<00:00,  3.12s/it]\n",
      "validation: 100%|█████████████| 1/1 [00:08<00:00,  8.21s/it]\n",
      "[epoch:003] train_loss:6.91e-02, val_loss:9.57e-02,  optimality: 0.550, efficiency: 0.350, h_mean: 0.428\n",
      "training:   0%|                       | 0/8 [00:00<?, ?it/s]^C\n",
      "training:   0%|                       | 0/8 [00:00<?, ?it/s]\n",
      "Traceback (most recent call last):\n",
      "  File \"train.py\", line 149, in <module>\n",
      "    main()\n",
      "  File \"train.py\", line 81, in main\n",
      "    loss, na_outputs = run_planner(batch, neural_astar, criterion)\n",
      "  File \"/v/filer5b/l_pstone/agents6/haresh/Projects/neural-astar/neural_astar/utils/training.py\", line 52, in run_planner\n",
      "    planner_outputs = planner(map_designs, start_maps, goal_maps)\n",
      "  File \"/u/pstone/agents6/haresh/Projects/miniconda3/lib/python3.8/site-packages/torch/nn/modules/module.py\", line 1102, in _call_impl\n",
      "    return forward_call(*input, **kwargs)\n",
      "  File \"/v/filer5b/l_pstone/agents6/haresh/Projects/neural-astar/neural_astar/planner/astar.py\", line 68, in forward\n",
      "    astar_outputs = self.astar(pred_cost_maps, start_maps, goal_maps,\n",
      "  File \"/u/pstone/agents6/haresh/Projects/miniconda3/lib/python3.8/site-packages/torch/nn/modules/module.py\", line 1102, in _call_impl\n",
      "    return forward_call(*input, **kwargs)\n",
      "  File \"/v/filer5b/l_pstone/agents6/haresh/Projects/neural-astar/neural_astar/planner/differentiable_astar.py\", line 190, in forward\n",
      "    selected_node_maps = _st_softmax_noexp(f_exp)\n",
      "  File \"/v/filer5b/l_pstone/agents6/haresh/Projects/neural-astar/neural_astar/planner/differentiable_astar.py\", line 71, in _st_softmax_noexp\n",
      "    y_hard[range(len(y_hard)), ind] = 1\n",
      "KeyboardInterrupt\n"
     ]
    }
   ],
   "source": [
    "# CNN encoder\n",
    "!python train.py"
   ]
  },
  {
   "cell_type": "raw",
   "id": "bd455e2a-fea9-4348-8087-971294f78561",
   "metadata": {},
   "source": [
    "# Unet encoder\n",
    "!python train.py -e Unet"
   ]
  }
 ],
 "metadata": {
  "kernelspec": {
   "display_name": "Python 3 (ipykernel)",
   "language": "python",
   "name": "python3"
  },
  "language_info": {
   "codemirror_mode": {
    "name": "ipython",
    "version": 3
   },
   "file_extension": ".py",
   "mimetype": "text/x-python",
   "name": "python",
   "nbconvert_exporter": "python",
   "pygments_lexer": "ipython3",
   "version": "3.9.0"
  }
 },
 "nbformat": 4,
 "nbformat_minor": 5
}
